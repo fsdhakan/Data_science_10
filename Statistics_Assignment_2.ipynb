{
 "cells": [
  {
   "cell_type": "markdown",
   "metadata": {
    "id": "K7S4cEyZLTp7"
   },
   "source": [
    "## Descriptive Statistics"
   ]
  },
  {
   "cell_type": "markdown",
   "metadata": {
    "id": "vZRYVyc8H7hi"
   },
   "source": [
    " Import **NumPy**, **SciPy**, and **Pandas**"
   ]
  },
  {
   "cell_type": "code",
   "execution_count": 53,
   "metadata": {
    "id": "7ShN0klrHIk3"
   },
   "outputs": [],
   "source": [
    "import numpy as np\n",
    "import pandas as pd\n",
    "from scipy import stats\n",
    "import matplotlib.pyplot as plt"
   ]
  },
  {
   "cell_type": "markdown",
   "metadata": {
    "id": "_SaQURIqIA6d"
   },
   "source": [
    " Randomly generate 1,000 samples from the normal distribution using `np.random.normal()`(mean = 100, standard deviation = 15)"
   ]
  },
  {
   "cell_type": "code",
   "execution_count": 54,
   "metadata": {
    "colab": {
     "base_uri": "https://localhost:8080/"
    },
    "id": "Jyw_FMX0IRkm",
    "outputId": "7111905a-94c2-4f8c-db8b-25d7446a0d48"
   },
   "outputs": [
    {
     "data": {
      "text/plain": [
       "array([116.07878785,  79.61351622,  94.42737307, 135.74746398,\n",
       "       113.81671948, 108.61328815, 112.01462846, 104.47679255,\n",
       "       105.77674203,  92.91777591,  95.05330333,  91.57570387,\n",
       "        91.43853786, 109.85480186, 104.39151126,  91.0576708 ,\n",
       "        74.14033058, 102.04152826,  83.5842353 , 110.8035406 ,\n",
       "        97.32280855, 124.72715322,  91.21242863,  97.37282474,\n",
       "       120.3276379 ,  77.94980792,  78.37782813,  89.44588239,\n",
       "        86.23112484, 105.78689162, 140.96828799,  77.19826231,\n",
       "       102.52406291,  89.4267698 , 122.15490352, 109.60782043,\n",
       "        87.4561961 , 108.92203712, 111.70261895, 109.83711681,\n",
       "       116.39593339, 120.71309161,  96.07646147, 126.23680643,\n",
       "        93.79709434,  82.08833476,  93.21397327,  81.7474268 ,\n",
       "       101.17090161,  91.41474675,  82.67602818,  97.99020711,\n",
       "       122.44278908, 126.88508414,  95.82880846,  95.8920952 ,\n",
       "       105.88571679, 126.45759866,  91.29269567,  95.13973381,\n",
       "        97.79414681,  66.28164783,  71.39966289,  91.58870615,\n",
       "        75.26241714,  96.04094033,  71.97821957,  55.55572146,\n",
       "        99.68313337,  91.17194889,  96.70812701,  97.05725105,\n",
       "       102.55024373,  76.70676205, 114.55834685,  93.77349799,\n",
       "        99.91853155,  89.35700237,  57.88680657,  95.67478525,\n",
       "       104.27266535, 104.19377941,  88.08914055,  93.48730837,\n",
       "        78.07191717,  72.07877733,  97.12272562, 112.36451821,\n",
       "       106.37867766,  86.19574506, 138.29362923,  86.96423398,\n",
       "        96.96526032,  82.21406973,  84.52138217, 100.38558141,\n",
       "        61.60855133, 106.87752429,  77.52061268,  80.63708975,\n",
       "       106.41563632,  84.52858339, 105.49064307,  92.76801606,\n",
       "       112.63163111,  88.21282513, 113.35039997, 111.52759639,\n",
       "       101.97676461, 114.1612724 , 102.74520595, 103.90109724,\n",
       "       115.11879472,  84.07716695,  93.11012246, 121.28481058,\n",
       "        92.61842294,  59.95965139,  90.49270419, 126.26295985,\n",
       "       104.01781099,  83.31180076,  97.71681013, 119.19772113,\n",
       "       102.71143241,  91.18531893, 112.3670191 , 103.74371734,\n",
       "        85.72680484, 106.50149944,  74.45734076, 113.29308663,\n",
       "       108.99095839, 102.04523693, 116.76234146, 122.15550923,\n",
       "        67.62524746, 114.06032455,  90.99169984, 106.61539118,\n",
       "        90.18402908, 104.86678593, 102.8097891 ,  90.96017355,\n",
       "        69.18469802,  81.03368237, 111.04455643, 102.06534414,\n",
       "       101.71052852,  91.31849844, 114.64783422,  78.61081281,\n",
       "       108.7129459 ,  78.1088692 , 102.78159463, 108.70272408,\n",
       "       111.4269435 , 104.64503503,  90.89535714,  88.93329272,\n",
       "        82.81577632,  97.31862408, 101.21913818,  84.83544939,\n",
       "       111.70483508,  87.50085232,  81.19975983,  76.23120101,\n",
       "        99.37043239,  79.18702043, 112.6910489 ,  99.01334915,\n",
       "       100.5014865 , 103.49164258,  78.34881848,  90.02524731,\n",
       "       117.05836639, 115.48636928, 100.44480651,  74.95765875,\n",
       "       104.26948179,  95.85700204, 113.12263092, 105.99391487,\n",
       "       114.46178259, 134.25796533,  97.03223595, 108.15514723,\n",
       "       117.43014841, 112.10382113,  95.3390757 ,  77.33892929,\n",
       "        88.90094676,  97.00082549, 103.12700735,  82.21687356,\n",
       "        86.93949769,  87.18654451,  97.56411985, 100.08021199,\n",
       "        99.14965405,  91.44013788, 107.06683679, 128.02930307,\n",
       "        76.03159589,  98.23242222, 114.38885443, 109.75873137,\n",
       "       114.23307178,  98.83034841,  66.40546837, 112.3478515 ,\n",
       "        93.61602174,  83.18959515,  92.1362868 ,  99.5946466 ,\n",
       "        87.95869266,  76.30642179, 115.23354503,  91.79010505,\n",
       "       114.26225247,  95.43336253, 107.0653829 ,  78.5855231 ,\n",
       "        94.67624864, 105.74576465,  72.28187595, 120.54747648,\n",
       "       123.3530448 , 107.57187297,  70.7127868 ,  97.64789806,\n",
       "        82.79309622,  96.8160265 , 108.56304579,  85.80191071,\n",
       "        86.1176425 , 117.79623261,  70.15516759,  83.45396331,\n",
       "        83.57118182, 108.09453961,  98.01697713,  97.82517291,\n",
       "        95.2504315 ,  76.39448021, 108.1969349 , 105.87583266,\n",
       "       106.19092995,  93.22222499, 119.63118153, 111.83502541,\n",
       "        78.2552523 , 131.01908538,  88.00679536, 116.03823313,\n",
       "        92.91747334,  91.07037932,  94.88000032, 125.90996498,\n",
       "        91.55787175,  75.78651836,  98.59539823, 105.31101315,\n",
       "       116.09984611,  99.53166283, 124.77299808, 107.95121151,\n",
       "        94.70453186,  70.74161171,  95.51345902, 115.66132631,\n",
       "       111.23988207,  84.19651977, 121.39971229,  80.77052599,\n",
       "        78.06719266, 101.74690555, 111.25132563,  79.51055278,\n",
       "       118.73803266, 111.97067106, 111.39777359, 121.91153019,\n",
       "       122.4778739 ,  90.60470832,  91.79334691,  73.4823103 ,\n",
       "        99.82307109, 112.97654533,  96.18906509, 106.92043782,\n",
       "       101.27124142, 114.23809666,  74.00973702, 101.90298214,\n",
       "        89.75155529,  85.43635803,  93.65952332,  84.93117689,\n",
       "       102.00911983,  81.54640069, 118.13256294,  97.29748525,\n",
       "       106.3521002 , 116.42231207,  93.6771661 ,  93.26168309,\n",
       "        86.19523976,  87.11792024,  88.5819333 ,  84.32838368,\n",
       "        95.14846237, 115.39803266, 102.23445244, 138.92930832,\n",
       "       103.99883282,  96.18366599,  96.39556201, 115.70935732,\n",
       "       102.13046566, 124.1741517 , 101.47712717, 106.89522594,\n",
       "       111.01628521, 108.9549122 ,  95.91604142,  94.63827968,\n",
       "        90.37755267,  72.98838404,  86.66468134, 106.56043433,\n",
       "        94.92580891, 115.56585598, 116.69193232, 110.35915302,\n",
       "       102.97018286,  95.72368224, 107.0405754 , 121.12379876,\n",
       "       100.16996497, 100.57944451,  78.57446916,  90.60910327,\n",
       "        74.86429005,  95.87262866, 120.985183  ,  86.90529979,\n",
       "       108.39129436,  99.13272521,  91.70129421,  91.59484206,\n",
       "        85.70108556, 113.4520682 ,  82.76304708,  91.09096151,\n",
       "       107.20513726,  98.85378429, 121.06779443,  93.41431973,\n",
       "       127.33255352,  82.19309097, 112.82511822, 111.30704768,\n",
       "       109.67393737,  80.76979714,  93.06553729, 113.50409173,\n",
       "        62.89868422,  99.62950746, 149.4511235 , 112.69329222,\n",
       "       107.73757545,  93.74769259, 106.13622418,  92.38605276,\n",
       "       100.39743895,  82.64330596, 115.5248881 ,  94.6658    ,\n",
       "        73.99990052,  93.88988076, 104.35807359,  85.3279943 ,\n",
       "        82.93318351,  94.11542105,  66.7061386 ,  88.59946989,\n",
       "        78.72030312, 102.43984101,  83.20530013,  80.90241406,\n",
       "       109.83319365, 114.31388243, 121.04917353,  85.05435412,\n",
       "        88.85387505, 120.43937916, 110.98694291, 138.07837733,\n",
       "       104.555391  , 105.10792093,  78.20181081, 106.91138801,\n",
       "       129.7860658 ,  97.12099771,  98.8328106 , 102.19801483,\n",
       "       120.45492425, 127.80139902,  97.19446405, 121.06711842,\n",
       "        96.55749171,  78.94638174, 111.83746525, 115.69379472,\n",
       "        89.13417835, 113.92713362, 108.10749463,  79.60537217,\n",
       "        93.11610322, 108.00268968, 102.41573122, 101.06909971,\n",
       "       106.38713443,  88.55674865,  94.95414529,  94.56839496,\n",
       "        98.74069295, 104.47616049, 102.31210251,  89.26012148,\n",
       "       111.0352032 ,  82.51382945, 113.93046307, 107.51306337,\n",
       "        96.18204602, 108.26277082, 101.89898604, 103.54379514,\n",
       "       102.87474982, 107.4729371 , 104.72184268, 103.36765687,\n",
       "        96.26452191, 103.0096779 ,  91.92809143,  91.51500329,\n",
       "       104.72035363,  84.82013725, 103.28085671, 121.39139952,\n",
       "       124.02525746,  84.87369804,  99.68831329,  53.67233249,\n",
       "        78.58511154, 123.50927864,  79.87357412,  95.46469848,\n",
       "       103.50575897, 106.35824485, 103.6993033 ,  94.9815163 ,\n",
       "       126.66696389, 117.40653919, 111.95043612,  67.15945701,\n",
       "       103.91033278, 100.42908759, 111.51300914, 126.11852351,\n",
       "        74.67018093, 102.18621355,  88.2812697 ,  73.20912387,\n",
       "       114.09351791,  92.5021136 ,  88.390256  , 130.56316734,\n",
       "        93.31075764,  97.82414322,  93.54878741,  97.41897937,\n",
       "       123.90908613,  91.03047133, 112.17391241, 124.37981295,\n",
       "       115.52939497,  99.87154366,  78.92791896, 112.72787693,\n",
       "       129.70149612,  97.53805679, 112.5693743 ,  94.5630541 ,\n",
       "       115.57457734, 109.99750912,  89.78255406,  98.90175054,\n",
       "        84.58276908, 131.50955737, 128.56701703,  74.06418319,\n",
       "       102.17704452, 121.26658535,  92.62418408, 118.08715343,\n",
       "        99.68556498, 112.06338568,  96.23597374, 110.08217509,\n",
       "        82.37844539, 120.37778261, 105.69797893, 126.23583387,\n",
       "       103.95695099,  83.79966672,  90.38893812,  93.95596349,\n",
       "       107.36991489, 122.88803044, 104.08176983,  83.23335297,\n",
       "       117.92134728,  85.0081243 ,  91.07809693,  99.6504459 ,\n",
       "       112.20603739, 109.21602723,  74.29831365, 115.91364839,\n",
       "        86.22828045,  87.09282239,  75.65824362,  84.28091631,\n",
       "       103.7503957 , 104.53204158, 129.44816899,  98.00971935,\n",
       "       132.82336633,  92.06135517,  91.26734732, 129.52219651,\n",
       "       116.66886804, 124.05736574,  89.94421916,  89.41465793,\n",
       "        97.15903421, 101.76442772,  91.08080467, 111.45854365,\n",
       "        70.62073879,  96.46018101,  91.69109248, 111.85050104,\n",
       "       132.76299295,  96.10254108,  97.59696291, 114.96714819,\n",
       "        76.87250492,  87.50440635,  81.86534522, 114.08090503,\n",
       "        90.73958499, 112.02508126, 102.55879632,  77.72211834,\n",
       "       108.56500659, 106.42748305, 106.38351751,  76.19584533,\n",
       "       111.70379854, 114.90583501,  93.33364492,  90.05743101,\n",
       "        78.21593664,  98.23856086, 127.4977341 , 100.18497704,\n",
       "        85.46934405,  93.70427344,  93.96366196,  76.31344707,\n",
       "        74.88508034, 114.68667897, 106.38532681, 115.88072864,\n",
       "       115.96569089, 104.56923908, 106.63866332, 114.01423477,\n",
       "       104.82624679, 103.35117714,  83.87964228, 131.90272254,\n",
       "       114.95295054,  90.21515903,  91.12767143,  95.33909017,\n",
       "       100.2941587 ,  55.26026639,  87.89468252,  90.95578185,\n",
       "        93.68773088,  65.45905569,  77.65546024,  78.71975381,\n",
       "       112.45628895,  86.24229938,  74.24286971,  80.5303196 ,\n",
       "       113.1728154 ,  98.36211645, 111.48334867,  99.75320297,\n",
       "        80.44826684, 103.06565196,  79.20394034,  68.78661518,\n",
       "        98.15713196,  96.10475539,  72.34987498,  84.119861  ,\n",
       "       102.28146299, 122.22402612, 106.27046449,  93.9072204 ,\n",
       "        95.92912916, 126.94296197,  87.57178718,  96.2929797 ,\n",
       "        97.4819684 , 119.41240342, 115.61379015,  61.56378689,\n",
       "        98.28116372, 103.57245592,  88.91190923, 118.26501335,\n",
       "       104.22639188,  88.85673177,  98.28977531,  86.06471017,\n",
       "        65.59989178,  91.87858093,  89.13404351, 121.37635422,\n",
       "        78.25277789, 107.4276085 ,  88.64005153,  90.90807361,\n",
       "        96.7809079 , 103.86892048,  88.46375303, 134.09533115,\n",
       "        96.11447605, 102.70854054,  97.08719721, 113.52065807,\n",
       "        88.93334153,  91.26933747,  70.96049082,  78.24183854,\n",
       "       102.22272599, 110.86497131,  87.58008147,  71.34782865,\n",
       "        93.54098961,  99.34843237,  77.38392657,  98.48400939,\n",
       "       119.35021576,  92.55458031, 142.99003291, 106.07385149,\n",
       "       115.70131767,  97.64362068,  98.68875587,  81.69428879,\n",
       "        71.29611863,  83.04910186, 116.78899103,  77.90947334,\n",
       "       114.30962474, 142.20820911,  96.68898423,  90.20455381,\n",
       "       101.72889854,  85.4246301 , 131.25226074, 117.09765371,\n",
       "       115.00630993,  69.22566228,  83.16041212, 104.28571275,\n",
       "       143.29941959, 102.21952145,  94.25432765, 109.87696931,\n",
       "       104.41696732,  95.06205709,  85.6150591 ,  98.79443444,\n",
       "        79.95301647, 119.6854961 ,  70.67348098,  88.94405979,\n",
       "       116.70378475, 120.71249654,  92.64114112,  83.70779511,\n",
       "       100.05733171, 117.85853883, 115.54288997,  94.13785286,\n",
       "        91.55483674,  94.08338067, 110.93260003,  85.42755192,\n",
       "       101.08404321, 105.35793908, 111.02030613,  89.35353753,\n",
       "        93.43506768,  89.01428429,  81.777416  ,  90.1049073 ,\n",
       "       103.09880658, 108.23727215,  88.10222453,  99.02065385,\n",
       "       114.83724054, 111.8173614 , 111.96703271,  76.84294807,\n",
       "        87.75700988,  93.11947253, 105.17049564, 101.14586554,\n",
       "       102.57261077,  99.23293611,  93.36909687,  62.13218784,\n",
       "       112.46534569,  88.19347869, 125.55191249,  96.2871712 ,\n",
       "        95.32943565,  77.46104702,  90.93426285, 105.13712678,\n",
       "        87.90303823,  98.62757204,  94.59935979,  95.18913888,\n",
       "        65.39756357, 105.94490374, 108.5934765 ,  95.51034549,\n",
       "        72.76053103, 104.36547709,  89.87172734,  99.44529423,\n",
       "        93.47065036,  87.24269147,  96.29625229, 102.13408858,\n",
       "        86.53402136, 135.51504198, 102.93411492,  89.77171612,\n",
       "       109.71721189, 113.78586335, 129.67761862,  99.87403762,\n",
       "       100.14680512, 116.9631195 , 101.77705249,  92.43404295,\n",
       "        92.90640903, 112.88750444,  92.71579213,  90.7759877 ,\n",
       "        95.07191723,  96.9531096 ,  96.12876053, 107.7754662 ,\n",
       "       115.91945657, 108.68090535,  96.04214936, 104.92294128,\n",
       "       119.00642765,  93.28007313,  83.66257661, 107.04193941,\n",
       "       103.84464471,  96.04115676,  86.78137219,  95.77406029,\n",
       "       111.95870579, 118.69265902, 102.2287663 , 112.41327697,\n",
       "        98.04090819,  89.5387139 ,  87.79422144,  96.26432233,\n",
       "       106.44474438, 127.51192738,  80.81118725, 107.48747045,\n",
       "        99.32443654, 111.98417253,  99.82362237,  99.77662847,\n",
       "       110.40394432,  93.49214943,  93.93794428,  83.36898084,\n",
       "       116.99139896,  72.95595812, 100.69913592,  78.92585117,\n",
       "        96.38827056,  86.37194225,  66.52050862,  93.72453005,\n",
       "       124.37224825,  98.36762792, 109.72580615,  92.75520888,\n",
       "       126.45185524,  90.98856891,  98.2732917 ,  98.12313196,\n",
       "        93.87744286,  62.89793241, 106.53222195, 116.86508861,\n",
       "        75.55443786, 125.45859027, 107.27243691,  75.83256688,\n",
       "        98.12006254,  86.87498813,  88.32650087,  77.21163357,\n",
       "       107.35675082,  93.22240598,  76.6231259 , 104.19192152,\n",
       "       103.5554231 ,  99.58970063,  85.80774157, 103.55994389,\n",
       "       122.42834211,  89.32023428, 105.88062447, 109.27670426,\n",
       "       108.09393146,  89.83669864, 102.14924028,  83.20037518,\n",
       "        94.10463491, 104.56611617, 131.52702253, 111.46923833,\n",
       "       120.89552536, 116.03057836,  97.98243858, 125.40062819,\n",
       "       109.88854961,  99.44534913, 121.59348179,  94.37246003,\n",
       "        86.66387564,  98.795884  , 112.6683973 ,  98.49669188,\n",
       "        95.40244575,  98.68472414, 135.28582347, 115.62439342,\n",
       "        94.3912799 , 121.98366721,  96.23469795,  90.34723383,\n",
       "       111.66610608, 112.79165511,  81.28907233, 104.35893532,\n",
       "        72.60869975,  82.2281702 ,  96.51602437,  82.94856318,\n",
       "       108.41868407,  85.81530325, 111.57889422, 102.9091626 ,\n",
       "        95.47040344,  74.2228218 ,  81.59804702,  95.3596932 ,\n",
       "       108.16571771, 116.35880669, 100.74295525, 112.32633373,\n",
       "       117.63723912,  98.57013197,  83.88095994,  70.49758474,\n",
       "        76.58907571,  89.09891918,  96.00561748,  79.0128333 ,\n",
       "       102.05456564, 112.14965806, 105.45359284, 111.99400106,\n",
       "        86.10520282, 130.91393215,  94.44626395,  81.80237631,\n",
       "       106.410877  ,  99.46442487,  96.94804722,  74.12983165,\n",
       "       104.86080308,  98.40690555, 112.35499816, 124.04232115,\n",
       "        62.03411283, 101.95322941,  97.52881927,  83.99089805,\n",
       "        97.28334433,  81.57109346,  82.91897468,  87.48475817,\n",
       "        86.20277163,  93.91513519, 102.68658058, 121.42957901,\n",
       "       120.72899315, 111.14114275,  85.90277776, 113.02376448,\n",
       "        97.14874024, 109.53130798, 122.13930984,  75.28647335,\n",
       "       110.09059603, 115.22939211,  94.94913442,  70.42826218,\n",
       "        79.68764619,  90.72111789, 115.37834051, 115.47514846,\n",
       "        94.02443927, 105.05433871, 108.18194137, 128.2864223 ,\n",
       "       115.77862631,  89.16562694,  97.21039853,  91.99309234,\n",
       "        93.51920304, 108.22024105, 128.66723797, 123.47312638,\n",
       "        98.61958822, 101.01899991,  92.66505567, 115.84644967,\n",
       "       113.70947563,  95.64801196, 102.49766233, 113.83296294,\n",
       "       125.11375158,  89.34425394, 105.46087601, 103.04376488,\n",
       "       122.26861267,  83.65681961,  96.78983726, 147.63697609,\n",
       "        97.52591661, 100.53108168, 121.00200711, 101.65835384,\n",
       "        97.49821945, 134.98339646, 117.02136943,  96.53362473,\n",
       "       105.55264689, 135.58624598, 117.39441206,  96.50464331])"
      ]
     },
     "execution_count": 54,
     "metadata": {},
     "output_type": "execute_result"
    }
   ],
   "source": [
    "samples = np.random.normal(100,15,1000) # other way np.random.randn(1000)*15+100\n",
    "samples"
   ]
  },
  {
   "cell_type": "markdown",
   "metadata": {
    "id": "CDF8m3a4IYOC"
   },
   "source": [
    "Compute the **mean**, **median**, and **mode**"
   ]
  },
  {
   "cell_type": "code",
   "execution_count": 55,
   "metadata": {
    "colab": {
     "base_uri": "https://localhost:8080/",
     "height": 134
    },
    "id": "ZKbeqxaKIoNs",
    "outputId": "92bd62c0-cc23-4ed3-a644-fbcf82cdac82"
   },
   "outputs": [
    {
     "name": "stdout",
     "output_type": "stream",
     "text": [
      "mean: 99.42125030460835 ,\n",
      "median: 98.65614808900882 ,\n",
      "mode ModeResult(mode=array([53.67233249]), count=array([1]))\n"
     ]
    }
   ],
   "source": [
    "mean = np.mean(samples)\n",
    "median =np.median(samples)\n",
    "mode = stats.mode(samples)\n",
    "print(\"mean:\", mean,\",\\nmedian:\", median, \",\\nmode\", mode)"
   ]
  },
  {
   "cell_type": "markdown",
   "metadata": {
    "id": "skT8m39XI60w"
   },
   "source": [
    "Compute the **min**, **max**, **Q1**, **Q3**, and **interquartile range**"
   ]
  },
  {
   "cell_type": "code",
   "execution_count": 56,
   "metadata": {
    "id": "VaiDphm8It0O"
   },
   "outputs": [
    {
     "name": "stdout",
     "output_type": "stream",
     "text": [
      "min: 53.67233248777768 , \n",
      "max: 149.45112350232353 , \n",
      "q1: 89.35121663108889 , \n",
      "q3: 110.50384338938836 , \n",
      "iqr: 21.152626758299476\n"
     ]
    }
   ],
   "source": [
    "min = samples.min()\n",
    "max = samples.max()\n",
    "q1 = np.percentile(samples, 25)\n",
    "q3 = np.percentile(samples, 75)\n",
    "iqr = q3 - q1\n",
    "print(\"min:\", min,\", \\nmax:\", max,\",\",\"\\nq1:\", q1,\", \\nq3:\",q3,\", \\niqr:\",iqr)"
   ]
  },
  {
   "cell_type": "markdown",
   "metadata": {
    "id": "m53Dv3n5JHQi"
   },
   "source": [
    "Compute the **variance** and **standard deviation**"
   ]
  },
  {
   "cell_type": "code",
   "execution_count": 57,
   "metadata": {
    "id": "6JFaAYdrJbeN"
   },
   "outputs": [
    {
     "name": "stdout",
     "output_type": "stream",
     "text": [
      "std:  15.46807640036529 \n",
      "\n",
      "variance:  239.2613875275376\n"
     ]
    }
   ],
   "source": [
    "variance = np.var(samples)\n",
    "std_dev =  np.std(samples)\n",
    "\n",
    "print(\"std: \", std_dev, \"\\n\\nvariance: \", variance)"
   ]
  },
  {
   "cell_type": "markdown",
   "metadata": {
    "id": "5eup4hI1JzqX"
   },
   "source": [
    "Compute the **skewness** and **kurtosis**"
   ]
  },
  {
   "cell_type": "code",
   "execution_count": 58,
   "metadata": {
    "id": "YO3obyDnJ3_D"
   },
   "outputs": [
    {
     "name": "stdout",
     "output_type": "stream",
     "text": [
      "skewness:  0.06694732299304748 ,\n",
      "\n",
      "kurtosis:  -0.02098318383457487\n"
     ]
    }
   ],
   "source": [
    "skewness = stats.skew(samples)\n",
    "kurtosis = stats.kurtosis(samples)\n",
    "print(\"skewness: \", skewness, \",\\n\\nkurtosis: \", kurtosis)"
   ]
  },
  {
   "cell_type": "markdown",
   "metadata": {
    "id": "a5UNc8PUKnbU"
   },
   "source": [
    "## NumPy Correlation Calculation"
   ]
  },
  {
   "cell_type": "markdown",
   "metadata": {
    "id": "cLiqxE1CMNTg"
   },
   "source": [
    "Create an array x of integers between 10 (inclusive) and 20 (exclusive). Use `np.arange()`"
   ]
  },
  {
   "cell_type": "code",
   "execution_count": 59,
   "metadata": {
    "id": "5LAaQ6w5L-2L"
   },
   "outputs": [
    {
     "data": {
      "text/plain": [
       "array([10, 11, 12, 13, 14, 15, 16, 17, 18, 19])"
      ]
     },
     "execution_count": 59,
     "metadata": {},
     "output_type": "execute_result"
    }
   ],
   "source": [
    "x = np.arange(10,20)\n",
    "x"
   ]
  },
  {
   "cell_type": "markdown",
   "metadata": {
    "id": "qyCIaukNMZPf"
   },
   "source": [
    "Then use `np.array()` to create a second array y containing 10 arbitrary integers."
   ]
  },
  {
   "cell_type": "code",
   "execution_count": 60,
   "metadata": {
    "id": "p27eW__gNMdh"
   },
   "outputs": [
    {
     "data": {
      "text/plain": [
       "array([13, 56, 38,  4, 91, 96, 44, 71, 98, 53])"
      ]
     },
     "execution_count": 60,
     "metadata": {},
     "output_type": "execute_result"
    }
   ],
   "source": [
    "y =  np.random.randint(1,100,10)\n",
    "y"
   ]
  },
  {
   "cell_type": "markdown",
   "metadata": {
    "id": "Kh_VeKwINSqS"
   },
   "source": [
    "Once you have two arrays of the same length, you can compute the **correlation coefficient** between x and y"
   ]
  },
  {
   "cell_type": "code",
   "execution_count": 61,
   "metadata": {
    "id": "yrtC6rPkNSDC"
   },
   "outputs": [
    {
     "data": {
      "text/plain": [
       "array([[1.        , 0.52379882],\n",
       "       [0.52379882, 1.        ]])"
      ]
     },
     "execution_count": 61,
     "metadata": {},
     "output_type": "execute_result"
    }
   ],
   "source": [
    "r = np.corrcoef(x, y)\n",
    "r"
   ]
  },
  {
   "cell_type": "markdown",
   "metadata": {
    "id": "vXieLjYiNtPi"
   },
   "source": [
    "## Pandas Correlation Calculation"
   ]
  },
  {
   "cell_type": "markdown",
   "metadata": {
    "id": "z56t0k0qNvkr"
   },
   "source": [
    "Run the code below"
   ]
  },
  {
   "cell_type": "code",
   "execution_count": 62,
   "metadata": {},
   "outputs": [
    {
     "data": {
      "text/html": [
       "<div>\n",
       "<style scoped>\n",
       "    .dataframe tbody tr th:only-of-type {\n",
       "        vertical-align: middle;\n",
       "    }\n",
       "\n",
       "    .dataframe tbody tr th {\n",
       "        vertical-align: top;\n",
       "    }\n",
       "\n",
       "    .dataframe thead th {\n",
       "        text-align: right;\n",
       "    }\n",
       "</style>\n",
       "<table border=\"1\" class=\"dataframe\">\n",
       "  <thead>\n",
       "    <tr style=\"text-align: right;\">\n",
       "      <th></th>\n",
       "      <th>x</th>\n",
       "      <th>y</th>\n",
       "    </tr>\n",
       "  </thead>\n",
       "  <tbody>\n",
       "    <tr>\n",
       "      <th>0</th>\n",
       "      <td>10</td>\n",
       "      <td>2</td>\n",
       "    </tr>\n",
       "    <tr>\n",
       "      <th>1</th>\n",
       "      <td>11</td>\n",
       "      <td>1</td>\n",
       "    </tr>\n",
       "    <tr>\n",
       "      <th>2</th>\n",
       "      <td>12</td>\n",
       "      <td>4</td>\n",
       "    </tr>\n",
       "    <tr>\n",
       "      <th>3</th>\n",
       "      <td>13</td>\n",
       "      <td>5</td>\n",
       "    </tr>\n",
       "    <tr>\n",
       "      <th>4</th>\n",
       "      <td>14</td>\n",
       "      <td>8</td>\n",
       "    </tr>\n",
       "    <tr>\n",
       "      <th>5</th>\n",
       "      <td>15</td>\n",
       "      <td>12</td>\n",
       "    </tr>\n",
       "    <tr>\n",
       "      <th>6</th>\n",
       "      <td>16</td>\n",
       "      <td>18</td>\n",
       "    </tr>\n",
       "    <tr>\n",
       "      <th>7</th>\n",
       "      <td>17</td>\n",
       "      <td>25</td>\n",
       "    </tr>\n",
       "    <tr>\n",
       "      <th>8</th>\n",
       "      <td>18</td>\n",
       "      <td>96</td>\n",
       "    </tr>\n",
       "    <tr>\n",
       "      <th>9</th>\n",
       "      <td>19</td>\n",
       "      <td>48</td>\n",
       "    </tr>\n",
       "  </tbody>\n",
       "</table>\n",
       "</div>"
      ],
      "text/plain": [
       "    x   y\n",
       "0  10   2\n",
       "1  11   1\n",
       "2  12   4\n",
       "3  13   5\n",
       "4  14   8\n",
       "5  15  12\n",
       "6  16  18\n",
       "7  17  25\n",
       "8  18  96\n",
       "9  19  48"
      ]
     },
     "execution_count": 62,
     "metadata": {},
     "output_type": "execute_result"
    }
   ],
   "source": [
    "x = pd.Series(range(10, 20))\n",
    "y = pd.Series([2, 1, 4, 5, 8, 12, 18, 25, 96, 48])\n",
    "df = pd.DataFrame(list(zip(x, y)), columns=['x', 'y'])\n",
    "df"
   ]
  },
  {
   "cell_type": "markdown",
   "metadata": {
    "id": "ZajVXYe2OCih"
   },
   "source": [
    "Call the relevant method  to calculate Pearson's r correlation."
   ]
  },
  {
   "cell_type": "code",
   "execution_count": 63,
   "metadata": {
    "id": "Ak_rkzbLOafj"
   },
   "outputs": [
    {
     "data": {
      "text/plain": [
       "(0.758640289091187, 0.010964341301680813)"
      ]
     },
     "execution_count": 63,
     "metadata": {},
     "output_type": "execute_result"
    }
   ],
   "source": [
    "r = stats.pearsonr(x,y)\n",
    "r"
   ]
  },
  {
   "cell_type": "code",
   "execution_count": 64,
   "metadata": {},
   "outputs": [
    {
     "data": {
      "text/plain": [
       "0.7586402890911867"
      ]
     },
     "execution_count": 64,
     "metadata": {},
     "output_type": "execute_result"
    }
   ],
   "source": [
    "r1 = x.corr(y)\n",
    "r1"
   ]
  },
  {
   "cell_type": "markdown",
   "metadata": {
    "id": "1CygSbnROb9V"
   },
   "source": [
    "OPTIONAL. Call the relevant method to calculate Spearman's rho correlation."
   ]
  },
  {
   "cell_type": "code",
   "execution_count": 65,
   "metadata": {},
   "outputs": [
    {
     "name": "stdout",
     "output_type": "stream",
     "text": [
      "Spearmans correlation coefficient: 0.975758\n"
     ]
    }
   ],
   "source": [
    "rho, p = stats.spearmanr(x, y)\n",
    "print('Spearmans correlation coefficient: %.6f' % rho)"
   ]
  },
  {
   "cell_type": "markdown",
   "metadata": {
    "id": "we7pg7kdOo7y"
   },
   "source": [
    "## Seaborn Dataset Tips"
   ]
  },
  {
   "cell_type": "markdown",
   "metadata": {
    "id": "VlzgFKN7OvqX"
   },
   "source": [
    "Import Seaborn Library"
   ]
  },
  {
   "cell_type": "code",
   "execution_count": 66,
   "metadata": {
    "id": "t-49JRRqO4pw"
   },
   "outputs": [],
   "source": [
    "import seaborn as sns"
   ]
  },
  {
   "cell_type": "markdown",
   "metadata": {
    "id": "0INVBB4tO4y4"
   },
   "source": [
    "Load \"tips\" dataset from Seaborn"
   ]
  },
  {
   "cell_type": "code",
   "execution_count": 67,
   "metadata": {
    "id": "kieLvcM1PBv7"
   },
   "outputs": [],
   "source": [
    "tips = sns.load_dataset(\"tips\")"
   ]
  },
  {
   "cell_type": "markdown",
   "metadata": {
    "id": "o2ISqVQrPh5S"
   },
   "source": [
    "Generate descriptive statistics include those that summarize the central tendency, dispersion"
   ]
  },
  {
   "cell_type": "code",
   "execution_count": 68,
   "metadata": {
    "id": "FyFvmdbJPVg6"
   },
   "outputs": [
    {
     "data": {
      "text/html": [
       "<div>\n",
       "<style scoped>\n",
       "    .dataframe tbody tr th:only-of-type {\n",
       "        vertical-align: middle;\n",
       "    }\n",
       "\n",
       "    .dataframe tbody tr th {\n",
       "        vertical-align: top;\n",
       "    }\n",
       "\n",
       "    .dataframe thead th {\n",
       "        text-align: right;\n",
       "    }\n",
       "</style>\n",
       "<table border=\"1\" class=\"dataframe\">\n",
       "  <thead>\n",
       "    <tr style=\"text-align: right;\">\n",
       "      <th></th>\n",
       "      <th>count</th>\n",
       "      <th>mean</th>\n",
       "      <th>std</th>\n",
       "      <th>min</th>\n",
       "      <th>25%</th>\n",
       "      <th>50%</th>\n",
       "      <th>75%</th>\n",
       "      <th>max</th>\n",
       "    </tr>\n",
       "  </thead>\n",
       "  <tbody>\n",
       "    <tr>\n",
       "      <th>total_bill</th>\n",
       "      <td>244.0</td>\n",
       "      <td>19.785943</td>\n",
       "      <td>8.902412</td>\n",
       "      <td>3.07</td>\n",
       "      <td>13.3475</td>\n",
       "      <td>17.795</td>\n",
       "      <td>24.1275</td>\n",
       "      <td>50.81</td>\n",
       "    </tr>\n",
       "    <tr>\n",
       "      <th>tip</th>\n",
       "      <td>244.0</td>\n",
       "      <td>2.998279</td>\n",
       "      <td>1.383638</td>\n",
       "      <td>1.00</td>\n",
       "      <td>2.0000</td>\n",
       "      <td>2.900</td>\n",
       "      <td>3.5625</td>\n",
       "      <td>10.00</td>\n",
       "    </tr>\n",
       "    <tr>\n",
       "      <th>size</th>\n",
       "      <td>244.0</td>\n",
       "      <td>2.569672</td>\n",
       "      <td>0.951100</td>\n",
       "      <td>1.00</td>\n",
       "      <td>2.0000</td>\n",
       "      <td>2.000</td>\n",
       "      <td>3.0000</td>\n",
       "      <td>6.00</td>\n",
       "    </tr>\n",
       "  </tbody>\n",
       "</table>\n",
       "</div>"
      ],
      "text/plain": [
       "            count       mean       std   min      25%     50%      75%    max\n",
       "total_bill  244.0  19.785943  8.902412  3.07  13.3475  17.795  24.1275  50.81\n",
       "tip         244.0   2.998279  1.383638  1.00   2.0000   2.900   3.5625  10.00\n",
       "size        244.0   2.569672  0.951100  1.00   2.0000   2.000   3.0000   6.00"
      ]
     },
     "execution_count": 68,
     "metadata": {},
     "output_type": "execute_result"
    }
   ],
   "source": [
    "tips.describe().T"
   ]
  },
  {
   "cell_type": "markdown",
   "metadata": {
    "id": "3yCRK4VJPzRo"
   },
   "source": [
    "Call the relevant method to calculate pairwise Pearson's r correlation of columns"
   ]
  },
  {
   "cell_type": "code",
   "execution_count": 69,
   "metadata": {},
   "outputs": [
    {
     "data": {
      "text/html": [
       "<div>\n",
       "<style scoped>\n",
       "    .dataframe tbody tr th:only-of-type {\n",
       "        vertical-align: middle;\n",
       "    }\n",
       "\n",
       "    .dataframe tbody tr th {\n",
       "        vertical-align: top;\n",
       "    }\n",
       "\n",
       "    .dataframe thead th {\n",
       "        text-align: right;\n",
       "    }\n",
       "</style>\n",
       "<table border=\"1\" class=\"dataframe\">\n",
       "  <thead>\n",
       "    <tr style=\"text-align: right;\">\n",
       "      <th></th>\n",
       "      <th>total_bill</th>\n",
       "      <th>tip</th>\n",
       "      <th>size</th>\n",
       "    </tr>\n",
       "  </thead>\n",
       "  <tbody>\n",
       "    <tr>\n",
       "      <th>total_bill</th>\n",
       "      <td>1.000000</td>\n",
       "      <td>0.675734</td>\n",
       "      <td>0.598315</td>\n",
       "    </tr>\n",
       "    <tr>\n",
       "      <th>tip</th>\n",
       "      <td>0.675734</td>\n",
       "      <td>1.000000</td>\n",
       "      <td>0.489299</td>\n",
       "    </tr>\n",
       "    <tr>\n",
       "      <th>size</th>\n",
       "      <td>0.598315</td>\n",
       "      <td>0.489299</td>\n",
       "      <td>1.000000</td>\n",
       "    </tr>\n",
       "  </tbody>\n",
       "</table>\n",
       "</div>"
      ],
      "text/plain": [
       "            total_bill       tip      size\n",
       "total_bill    1.000000  0.675734  0.598315\n",
       "tip           0.675734  1.000000  0.489299\n",
       "size          0.598315  0.489299  1.000000"
      ]
     },
     "execution_count": 69,
     "metadata": {},
     "output_type": "execute_result"
    }
   ],
   "source": [
    "tips.corr()"
   ]
  },
  {
   "cell_type": "code",
   "execution_count": 70,
   "metadata": {
    "id": "qwvGzDU8PGnM",
    "scrolled": true
   },
   "outputs": [
    {
     "data": {
      "image/png": "[encoded data removed]",
      "text/plain": [
       "<Figure size 432x432 with 12 Axes>"
      ]
     },
     "metadata": {
      "needs_background": "light"
     },
     "output_type": "display_data"
    }
   ],
   "source": [
    "sns.pairplot(tips, height = 2)\n",
    "plt.show();"
   ]
  },
  {
   "cell_type": "code",
   "execution_count": 71,
   "metadata": {},
   "outputs": [
    {
     "data": {
      "text/plain": [
       "(5.0, 0.0)"
      ]
     },
     "execution_count": 71,
     "metadata": {},
     "output_type": "execute_result"
    },
    {
     "data": {
      "image/png": "[encoded data removed]",
      "text/plain": [
       "<Figure size 360x360 with 2 Axes>"
      ]
     },
     "metadata": {
      "needs_background": "light"
     },
     "output_type": "display_data"
    }
   ],
   "source": [
    "plt.figure(figsize=(5,5))\n",
    "sns.heatmap(tips.corr(),annot=True, cmap='viridis')\n",
    "plt.ylim(5, 0)  "
   ]
  }
 ],
 "metadata": {
  "colab": {
   "collapsed_sections": [],
   "name": "Statistics Assignment-2.ipynb adlı not defterinin kopyası",
   "provenance": []
  },
  "kernelspec": {
   "display_name": "Python 3 (ipykernel)",
   "language": "python",
   "name": "python3"
  },
  "language_info": {
   "codemirror_mode": {
    "name": "ipython",
    "version": 3
   },
   "file_extension": ".py",
   "mimetype": "text/x-python",
   "name": "python",
   "nbconvert_exporter": "python",
   "pygments_lexer": "ipython3",
   "version": "3.8.8"
  }
 },
 "nbformat": 4,
 "nbformat_minor": 1
}
