{
 "cells": [
  {
   "cell_type": "code",
   "execution_count": 6,
   "id": "214532f3",
   "metadata": {},
   "outputs": [],
   "source": [
    "import pandas as pd\n",
    "from scipy import stats\n",
    "import seaborn as sns\n",
    "import matplotlib.pyplot as plt\n",
    "%matplotlib inline\n",
    "import numpy as np"
   ]
  },
  {
   "cell_type": "markdown",
   "id": "03d3893c",
   "metadata": {},
   "source": [
    "EXERCISE 1. \n",
    "The hourly wages in a particular industry are normally distributed \n",
    "with mean $13.20 and standard deviation $2.50. A company in this industry employs 40 workers, paying them an \n",
    "average of $12.20 per hour. Can this company be accused of paying substandard wages? Use an α = .01 level test. \n",
    "(Wackerly, Ex.10.18)\n",
    "\n",
    "CHECK: statistic: -2.5298221281347035, pvalue= 0.005706018193000826"
   ]
  },
  {
   "cell_type": "code",
   "execution_count": 7,
   "id": "68d4687b",
   "metadata": {},
   "outputs": [],
   "source": [
    "n=40\n",
    "mu=13.20\n",
    "sigma=2.50\n",
    "mux=12.20\n",
    "alpha=0.01"
   ]
  },
  {
   "cell_type": "code",
   "execution_count": 8,
   "id": "23757d6b",
   "metadata": {},
   "outputs": [],
   "source": [
    "H0 : mu = mux\n",
    "H1 :mu != mux    "
   ]
  },
  {
   "cell_type": "code",
   "execution_count": 9,
   "id": "218d804c",
   "metadata": {},
   "outputs": [
    {
     "data": {
      "text/plain": [
       "2.5298221281347035"
      ]
     },
     "execution_count": 9,
     "metadata": {},
     "output_type": "execute_result"
    }
   ],
   "source": [
    "z_score=(mu-mux)/(sigma/np.sqrt(40))\n",
    "z_score"
   ]
  },
  {
   "cell_type": "code",
   "execution_count": 10,
   "id": "ada45eae",
   "metadata": {},
   "outputs": [],
   "source": [
    "#left tail= -2.52"
   ]
  },
  {
   "cell_type": "code",
   "execution_count": 11,
   "id": "820331e9",
   "metadata": {},
   "outputs": [
    {
     "data": {
      "text/plain": [
       "0.005706018193000872"
      ]
     },
     "execution_count": 11,
     "metadata": {},
     "output_type": "execute_result"
    }
   ],
   "source": [
    "upper = 1-stats.norm.cdf(z_score)\n",
    "upper"
   ]
  },
  {
   "cell_type": "code",
   "execution_count": 12,
   "id": "61871d33",
   "metadata": {},
   "outputs": [
    {
     "name": "stdout",
     "output_type": "stream",
     "text": [
      "Reject the null\n"
     ]
    }
   ],
   "source": [
    "alpha = 0.01\n",
    "if upper < alpha :\n",
    "    print(\"Reject the null\")\n",
    "else :\n",
    "    print(\"Fail to reject the null\")"
   ]
  },
  {
   "cell_type": "markdown",
   "id": "6398efc7",
   "metadata": {},
   "source": [
    "EXERCISE 2.\n",
    "Shear strength measurements derived from unconfined compression tests for two types of soils \n",
    "gave the results shown in the following document (measurements in tons per square foot). \n",
    "Do the soils appear to differ with respect to average shear strength, at the 1% significance level?\n",
    "\n",
    "Results for two type of soils\n",
    "\n",
    "CHECK: statistic: 5.1681473319343345, pvalue= 2.593228732352821e-06"
   ]
  },
  {
   "cell_type": "code",
   "execution_count": 14,
   "id": "2f8c5654",
   "metadata": {},
   "outputs": [
    {
     "ename": "FileNotFoundError",
     "evalue": "[Errno 2] No such file or directory: 'soil.xlsx'",
     "output_type": "error",
     "traceback": [
      "\u001b[1;31m---------------------------------------------------------------------------\u001b[0m",
      "\u001b[1;31mFileNotFoundError\u001b[0m                         Traceback (most recent call last)",
      "\u001b[1;32m~\\AppData\\Local\\Temp/ipykernel_7984/1392632472.py\u001b[0m in \u001b[0;36m<module>\u001b[1;34m\u001b[0m\n\u001b[1;32m----> 1\u001b[1;33m \u001b[0mdf\u001b[0m \u001b[1;33m=\u001b[0m \u001b[0mpd\u001b[0m\u001b[1;33m.\u001b[0m\u001b[0mread_excel\u001b[0m\u001b[1;33m(\u001b[0m\u001b[1;34m\"soil.xlsx\"\u001b[0m\u001b[1;33m)\u001b[0m\u001b[1;33m\u001b[0m\u001b[1;33m\u001b[0m\u001b[0m\n\u001b[0m\u001b[0;32m      2\u001b[0m \u001b[0mdf\u001b[0m\u001b[1;33m\u001b[0m\u001b[1;33m\u001b[0m\u001b[0m\n",
      "\u001b[1;32m~\\anaconda3\\lib\\site-packages\\pandas\\util\\_decorators.py\u001b[0m in \u001b[0;36mwrapper\u001b[1;34m(*args, **kwargs)\u001b[0m\n\u001b[0;32m    309\u001b[0m                     \u001b[0mstacklevel\u001b[0m\u001b[1;33m=\u001b[0m\u001b[0mstacklevel\u001b[0m\u001b[1;33m,\u001b[0m\u001b[1;33m\u001b[0m\u001b[1;33m\u001b[0m\u001b[0m\n\u001b[0;32m    310\u001b[0m                 )\n\u001b[1;32m--> 311\u001b[1;33m             \u001b[1;32mreturn\u001b[0m \u001b[0mfunc\u001b[0m\u001b[1;33m(\u001b[0m\u001b[1;33m*\u001b[0m\u001b[0margs\u001b[0m\u001b[1;33m,\u001b[0m \u001b[1;33m**\u001b[0m\u001b[0mkwargs\u001b[0m\u001b[1;33m)\u001b[0m\u001b[1;33m\u001b[0m\u001b[1;33m\u001b[0m\u001b[0m\n\u001b[0m\u001b[0;32m    312\u001b[0m \u001b[1;33m\u001b[0m\u001b[0m\n\u001b[0;32m    313\u001b[0m         \u001b[1;32mreturn\u001b[0m \u001b[0mwrapper\u001b[0m\u001b[1;33m\u001b[0m\u001b[1;33m\u001b[0m\u001b[0m\n",
      "\u001b[1;32m~\\anaconda3\\lib\\site-packages\\pandas\\io\\excel\\_base.py\u001b[0m in \u001b[0;36mread_excel\u001b[1;34m(io, sheet_name, header, names, index_col, usecols, squeeze, dtype, engine, converters, true_values, false_values, skiprows, nrows, na_values, keep_default_na, na_filter, verbose, parse_dates, date_parser, thousands, comment, skipfooter, convert_float, mangle_dupe_cols, storage_options)\u001b[0m\n\u001b[0;32m    362\u001b[0m     \u001b[1;32mif\u001b[0m \u001b[1;32mnot\u001b[0m \u001b[0misinstance\u001b[0m\u001b[1;33m(\u001b[0m\u001b[0mio\u001b[0m\u001b[1;33m,\u001b[0m \u001b[0mExcelFile\u001b[0m\u001b[1;33m)\u001b[0m\u001b[1;33m:\u001b[0m\u001b[1;33m\u001b[0m\u001b[1;33m\u001b[0m\u001b[0m\n\u001b[0;32m    363\u001b[0m         \u001b[0mshould_close\u001b[0m \u001b[1;33m=\u001b[0m \u001b[1;32mTrue\u001b[0m\u001b[1;33m\u001b[0m\u001b[1;33m\u001b[0m\u001b[0m\n\u001b[1;32m--> 364\u001b[1;33m         \u001b[0mio\u001b[0m \u001b[1;33m=\u001b[0m \u001b[0mExcelFile\u001b[0m\u001b[1;33m(\u001b[0m\u001b[0mio\u001b[0m\u001b[1;33m,\u001b[0m \u001b[0mstorage_options\u001b[0m\u001b[1;33m=\u001b[0m\u001b[0mstorage_options\u001b[0m\u001b[1;33m,\u001b[0m \u001b[0mengine\u001b[0m\u001b[1;33m=\u001b[0m\u001b[0mengine\u001b[0m\u001b[1;33m)\u001b[0m\u001b[1;33m\u001b[0m\u001b[1;33m\u001b[0m\u001b[0m\n\u001b[0m\u001b[0;32m    365\u001b[0m     \u001b[1;32melif\u001b[0m \u001b[0mengine\u001b[0m \u001b[1;32mand\u001b[0m \u001b[0mengine\u001b[0m \u001b[1;33m!=\u001b[0m \u001b[0mio\u001b[0m\u001b[1;33m.\u001b[0m\u001b[0mengine\u001b[0m\u001b[1;33m:\u001b[0m\u001b[1;33m\u001b[0m\u001b[1;33m\u001b[0m\u001b[0m\n\u001b[0;32m    366\u001b[0m         raise ValueError(\n",
      "\u001b[1;32m~\\anaconda3\\lib\\site-packages\\pandas\\io\\excel\\_base.py\u001b[0m in \u001b[0;36m__init__\u001b[1;34m(self, path_or_buffer, engine, storage_options)\u001b[0m\n\u001b[0;32m   1189\u001b[0m                 \u001b[0mext\u001b[0m \u001b[1;33m=\u001b[0m \u001b[1;34m\"xls\"\u001b[0m\u001b[1;33m\u001b[0m\u001b[1;33m\u001b[0m\u001b[0m\n\u001b[0;32m   1190\u001b[0m             \u001b[1;32melse\u001b[0m\u001b[1;33m:\u001b[0m\u001b[1;33m\u001b[0m\u001b[1;33m\u001b[0m\u001b[0m\n\u001b[1;32m-> 1191\u001b[1;33m                 ext = inspect_excel_format(\n\u001b[0m\u001b[0;32m   1192\u001b[0m                     \u001b[0mcontent_or_path\u001b[0m\u001b[1;33m=\u001b[0m\u001b[0mpath_or_buffer\u001b[0m\u001b[1;33m,\u001b[0m \u001b[0mstorage_options\u001b[0m\u001b[1;33m=\u001b[0m\u001b[0mstorage_options\u001b[0m\u001b[1;33m\u001b[0m\u001b[1;33m\u001b[0m\u001b[0m\n\u001b[0;32m   1193\u001b[0m                 )\n",
      "\u001b[1;32m~\\anaconda3\\lib\\site-packages\\pandas\\io\\excel\\_base.py\u001b[0m in \u001b[0;36minspect_excel_format\u001b[1;34m(content_or_path, storage_options)\u001b[0m\n\u001b[0;32m   1068\u001b[0m         \u001b[0mcontent_or_path\u001b[0m \u001b[1;33m=\u001b[0m \u001b[0mBytesIO\u001b[0m\u001b[1;33m(\u001b[0m\u001b[0mcontent_or_path\u001b[0m\u001b[1;33m)\u001b[0m\u001b[1;33m\u001b[0m\u001b[1;33m\u001b[0m\u001b[0m\n\u001b[0;32m   1069\u001b[0m \u001b[1;33m\u001b[0m\u001b[0m\n\u001b[1;32m-> 1070\u001b[1;33m     with get_handle(\n\u001b[0m\u001b[0;32m   1071\u001b[0m         \u001b[0mcontent_or_path\u001b[0m\u001b[1;33m,\u001b[0m \u001b[1;34m\"rb\"\u001b[0m\u001b[1;33m,\u001b[0m \u001b[0mstorage_options\u001b[0m\u001b[1;33m=\u001b[0m\u001b[0mstorage_options\u001b[0m\u001b[1;33m,\u001b[0m \u001b[0mis_text\u001b[0m\u001b[1;33m=\u001b[0m\u001b[1;32mFalse\u001b[0m\u001b[1;33m\u001b[0m\u001b[1;33m\u001b[0m\u001b[0m\n\u001b[0;32m   1072\u001b[0m     ) as handle:\n",
      "\u001b[1;32m~\\anaconda3\\lib\\site-packages\\pandas\\io\\common.py\u001b[0m in \u001b[0;36mget_handle\u001b[1;34m(path_or_buf, mode, encoding, compression, memory_map, is_text, errors, storage_options)\u001b[0m\n\u001b[0;32m    709\u001b[0m         \u001b[1;32melse\u001b[0m\u001b[1;33m:\u001b[0m\u001b[1;33m\u001b[0m\u001b[1;33m\u001b[0m\u001b[0m\n\u001b[0;32m    710\u001b[0m             \u001b[1;31m# Binary mode\u001b[0m\u001b[1;33m\u001b[0m\u001b[1;33m\u001b[0m\u001b[0m\n\u001b[1;32m--> 711\u001b[1;33m             \u001b[0mhandle\u001b[0m \u001b[1;33m=\u001b[0m \u001b[0mopen\u001b[0m\u001b[1;33m(\u001b[0m\u001b[0mhandle\u001b[0m\u001b[1;33m,\u001b[0m \u001b[0mioargs\u001b[0m\u001b[1;33m.\u001b[0m\u001b[0mmode\u001b[0m\u001b[1;33m)\u001b[0m\u001b[1;33m\u001b[0m\u001b[1;33m\u001b[0m\u001b[0m\n\u001b[0m\u001b[0;32m    712\u001b[0m         \u001b[0mhandles\u001b[0m\u001b[1;33m.\u001b[0m\u001b[0mappend\u001b[0m\u001b[1;33m(\u001b[0m\u001b[0mhandle\u001b[0m\u001b[1;33m)\u001b[0m\u001b[1;33m\u001b[0m\u001b[1;33m\u001b[0m\u001b[0m\n\u001b[0;32m    713\u001b[0m \u001b[1;33m\u001b[0m\u001b[0m\n",
      "\u001b[1;31mFileNotFoundError\u001b[0m: [Errno 2] No such file or directory: 'soil.xlsx'"
     ]
    }
   ],
   "source": [
    "df = pd.read_excel(\"soil.xlsx\")\n",
    "df"
   ]
  },
  {
   "cell_type": "code",
   "execution_count": null,
   "id": "1e11131b-2f2b-455f-a3f2-cb0491934a06",
   "metadata": {},
   "outputs": [],
   "source": [
    "df.Soil1.isna().sum()"
   ]
  },
  {
   "cell_type": "code",
   "execution_count": null,
   "id": "cdfff805-9753-43a3-a070-7d0ee342f67c",
   "metadata": {},
   "outputs": [],
   "source": [
    "df.Soil2.isna().sum()"
   ]
  },
  {
   "cell_type": "code",
   "execution_count": null,
   "id": "71352a02-2d91-4adc-bf05-a6bdefddccbc",
   "metadata": {},
   "outputs": [],
   "source": [
    "df.Soil1.mean()"
   ]
  },
  {
   "cell_type": "code",
   "execution_count": null,
   "id": "f432ddde-3940-4d51-895a-c6571aa5663f",
   "metadata": {},
   "outputs": [],
   "source": [
    "df.Soil2.mean()"
   ]
  },
  {
   "cell_type": "code",
   "execution_count": null,
   "id": "c0e53156",
   "metadata": {},
   "outputs": [],
   "source": [
    "# H0 : mu1=mu2\n",
    "# H1 : mu1!= mu2"
   ]
  },
  {
   "cell_type": "code",
   "execution_count": null,
   "id": "56fb7747",
   "metadata": {},
   "outputs": [],
   "source": [
    "leveneTest = stats.levene(df.dropna()['Soil1'],df['Soil2'])\n",
    "leveneTest"
   ]
  },
  {
   "cell_type": "code",
   "execution_count": null,
   "id": "de5f95a9",
   "metadata": {},
   "outputs": [],
   "source": [
    "#We can say that H0 rejected and two groups different variance"
   ]
  },
  {
   "cell_type": "code",
   "execution_count": null,
   "id": "e46a7fb4",
   "metadata": {},
   "outputs": [],
   "source": [
    "IndTest = stats.ttest_ind(df.dropna()['Soil1'],df['Soil2'],equal_var=True)\n",
    "#if variance nor equal\n",
    "IndTest"
   ]
  },
  {
   "cell_type": "code",
   "execution_count": null,
   "id": "6d14092c",
   "metadata": {},
   "outputs": [],
   "source": [
    "alpha = 0.01\n",
    "\n",
    "if IndTest.pvalue < alpha:\n",
    "    print(\"Reject the null\")\n",
    "else:\n",
    "    print(\"Fail to reject the null\")"
   ]
  },
  {
   "cell_type": "markdown",
   "id": "c22e426b",
   "metadata": {},
   "source": [
    "EXERCISE 3.\n",
    "The following dataset is based on data provided by the World Bank \n",
    "(https://datacatalog.worldbank.org/dataset/education-statistics). \n",
    "World Bank Edstats.  2015 PISA Test Dataset\n",
    "\n",
    "Get descriptive statistics (the central tendency, dispersion and shape of a dataset’s \n",
    "                            distribution) for each continent group (AS, EU, AF, NA, SA, OC).\n",
    "Determine whether there is any difference (on the average) for the math scores among \n",
    "European (EU) and Asian (AS) countries (assume normality and equal variances). \n",
    "\n",
    "Draw side-by-side box plots.\n",
    "CHECK: statistic=0.870055317967983, pvalue=0.38826888111307345"
   ]
  },
  {
   "cell_type": "code",
   "execution_count": null,
   "id": "ef640d3d",
   "metadata": {},
   "outputs": [],
   "source": [
    "df1 = pd.read_excel(\"2015 PISA Test.xlsx\")\n",
    "df1"
   ]
  },
  {
   "cell_type": "code",
   "execution_count": null,
   "id": "1d2d6ae3",
   "metadata": {},
   "outputs": [],
   "source": [
    "df1.describe()"
   ]
  },
  {
   "cell_type": "code",
   "execution_count": null,
   "id": "60a9c39e",
   "metadata": {},
   "outputs": [],
   "source": [
    "df1.groupby(\"Continent_Code\").mean()"
   ]
  },
  {
   "cell_type": "code",
   "execution_count": null,
   "id": "799a3672",
   "metadata": {},
   "outputs": [],
   "source": [
    "df1.groupby(\"Continent_Code\").median()"
   ]
  },
  {
   "cell_type": "code",
   "execution_count": null,
   "id": "1c271710",
   "metadata": {},
   "outputs": [],
   "source": [
    "df1.groupby(\"Continent_Code\").std()"
   ]
  },
  {
   "cell_type": "code",
   "execution_count": null,
   "id": "1baa2843",
   "metadata": {},
   "outputs": [],
   "source": [
    "df1.groupby(\"Continent_Code\").var()"
   ]
  },
  {
   "cell_type": "code",
   "execution_count": null,
   "id": "8d70e472",
   "metadata": {},
   "outputs": [],
   "source": [
    "df1.groupby(\"Continent_Code\").skew()"
   ]
  },
  {
   "cell_type": "code",
   "execution_count": null,
   "id": "3c064638",
   "metadata": {},
   "outputs": [],
   "source": [
    "dfmath=df1.groupby(\"Continent_Code\").describe()['Math']\n",
    "dfmath"
   ]
  },
  {
   "cell_type": "code",
   "execution_count": null,
   "id": "106e21e0",
   "metadata": {},
   "outputs": [],
   "source": [
    "#Math\n",
    "mean = df1.Math.mean()\n",
    "median = df1.Math.median()\n",
    "mode = df1.Math.mode()\n",
    "\n",
    "plt.figure(figsize=(10,5))\n",
    "plt.hist(df1.Math,bins=20,color='grey')\n",
    "plt.axvline(mean,color='red',label='Mean')\n",
    "plt.axvline(median,color='yellow',label='Median')\n",
    "plt.axvline(mode[0],color='green',label='Mode')\n",
    "plt.xlabel('Math')\n",
    "plt.ylabel('Frequency')\n",
    "plt.show()"
   ]
  },
  {
   "cell_type": "code",
   "execution_count": null,
   "id": "c458acb0",
   "metadata": {},
   "outputs": [],
   "source": [
    "#Reading\n",
    "mean = df1.Reading.mean()\n",
    "median = df1.Reading.median()\n",
    "mode = df1.Reading.mode()\n",
    "\n",
    "plt.figure(figsize=(10,5))\n",
    "plt.hist(df1.Reading,bins=20,color='grey')\n",
    "plt.axvline(mean,color='red',label='Mean')\n",
    "plt.axvline(median,color='yellow',label='Median')\n",
    "plt.axvline(mode[0],color='green',label='Mode')\n",
    "plt.xlabel('Reading')\n",
    "plt.ylabel('Frequency')\n",
    "plt.legend()\n",
    "plt.show()"
   ]
  },
  {
   "cell_type": "code",
   "execution_count": null,
   "id": "19b77443",
   "metadata": {},
   "outputs": [],
   "source": [
    "#Science\n",
    "mean = df1.Science.mean()\n",
    "median = df1.Science.median()\n",
    "mode = df1.Science.mode()\n",
    "\n",
    "plt.figure(figsize=(10,5))\n",
    "plt.hist(df1.Science,bins=20,color='grey')\n",
    "plt.axvline(mean,color='red',label='Mean')\n",
    "plt.axvline(median,color='yellow',label='Median')\n",
    "plt.axvline(mode[0],color='green',label='Mode')\n",
    "plt.xlabel('Science')\n",
    "plt.ylabel('Frequency')\n",
    "plt.legend()\n",
    "\n",
    "plt.show()"
   ]
  },
  {
   "cell_type": "code",
   "execution_count": null,
   "id": "4f568d55",
   "metadata": {},
   "outputs": [],
   "source": [
    "df1[(df1['Continent_Code'] == \"AS\") | (df1['Continent_Code'] == \"EU\")][['Math','Continent_Code']]"
   ]
  },
  {
   "cell_type": "code",
   "execution_count": null,
   "id": "0f735ba0",
   "metadata": {},
   "outputs": [],
   "source": [
    "sns.boxplot(y='Math', x='Continent_Code', data = df1[(df1['Continent_Code'] == \"AS\") | (df1['Continent_Code'] == \"EU\")][['Math','Continent_Code']]);"
   ]
  },
  {
   "cell_type": "code",
   "execution_count": null,
   "id": "367f590f",
   "metadata": {},
   "outputs": [],
   "source": [
    "EU = df1[df1['Continent_Code'] == \"EU\"]['Math']\n",
    "EU"
   ]
  },
  {
   "cell_type": "code",
   "execution_count": null,
   "id": "8860928d",
   "metadata": {},
   "outputs": [],
   "source": [
    "AS = df1[df1['Continent_Code'] == \"AS\"]['Math']\n",
    "AS"
   ]
  },
  {
   "cell_type": "code",
   "execution_count": null,
   "id": "b58569bb",
   "metadata": {},
   "outputs": [],
   "source": [
    "#H0 : mu1=mu2\n",
    "#H1 : mu1!mu2"
   ]
  },
  {
   "cell_type": "code",
   "execution_count": null,
   "id": "3ad26aa6",
   "metadata": {},
   "outputs": [],
   "source": [
    "indTest = stats.ttest_ind(EU, AS,equal_var=True)\n",
    "indTest"
   ]
  },
  {
   "cell_type": "code",
   "execution_count": null,
   "id": "17693b4d",
   "metadata": {},
   "outputs": [],
   "source": [
    "alpha = 0.05\n",
    "\n",
    "if indTest.pvalue < alpha:\n",
    "    print(\"Reject the null\")\n",
    "else:\n",
    "    print(\"Fail to reject the null\")"
   ]
  },
  {
   "cell_type": "code",
   "execution_count": null,
   "id": "4f2958be",
   "metadata": {},
   "outputs": [],
   "source": []
  },
  {
   "cell_type": "code",
   "execution_count": null,
   "id": "db18c294",
   "metadata": {},
   "outputs": [],
   "source": []
  },
  {
   "cell_type": "code",
   "execution_count": null,
   "id": "cc868ac7",
   "metadata": {},
   "outputs": [],
   "source": []
  },
  {
   "cell_type": "code",
   "execution_count": null,
   "id": "d903ad1e",
   "metadata": {},
   "outputs": [],
   "source": []
  },
  {
   "cell_type": "code",
   "execution_count": null,
   "id": "f5bb24c2",
   "metadata": {},
   "outputs": [],
   "source": [
    "EXERCISE 4.The sample dataset has placement test scores (out of 100 points) for four subject areas: \n",
    "    English, Reading, Math, and Writing. Students in the sample completed all 4 placement tests \n",
    "    when they enrolled in the university. Suppose we are particularly interested in the English and \n",
    "    Math sections, and want to determine whether students tended to score higher on their English or Math \n",
    "    test, on average. We could use a paired t test to test if there was a significant difference in\n",
    "    the average of the two tests.\n",
    "\n",
    "Sample Dataset 2014\n",
    "\n",
    "CHECK: statistic=36.312568981719856, pvalue=3.0710987192210606e-128"
   ]
  },
  {
   "cell_type": "code",
   "execution_count": null,
   "id": "d21c97c4",
   "metadata": {},
   "outputs": [],
   "source": [
    "df3 = pd.read_excel(\"students_2014.xlsx\")\n",
    "df3.head()"
   ]
  },
  {
   "cell_type": "code",
   "execution_count": null,
   "id": "531b2023",
   "metadata": {},
   "outputs": [],
   "source": [
    "df3.isnull().sum()"
   ]
  },
  {
   "cell_type": "code",
   "execution_count": null,
   "id": "e5c44556",
   "metadata": {},
   "outputs": [],
   "source": [
    "df3.describe().T"
   ]
  },
  {
   "cell_type": "code",
   "execution_count": null,
   "id": "a6f0a92d",
   "metadata": {},
   "outputs": [],
   "source": [
    "df3.info()"
   ]
  },
  {
   "cell_type": "code",
   "execution_count": null,
   "id": "75e0727a",
   "metadata": {},
   "outputs": [],
   "source": [
    "#H0 : avg=0\n",
    "#H1 : avg!=0(math_avg-english_avg)"
   ]
  },
  {
   "cell_type": "code",
   "execution_count": null,
   "id": "c9c5904d",
   "metadata": {},
   "outputs": [],
   "source": [
    "pairedtest = stats.ttest_rel(df3.Math, df3.English, nan_policy='omit',alternative='two-sided')\n",
    "pairedtest"
   ]
  },
  {
   "cell_type": "code",
   "execution_count": null,
   "id": "77d2648f",
   "metadata": {},
   "outputs": [],
   "source": [
    "#There was a significant average difference between English and Math \n",
    "#scores(value= 3.071098719220689e-128, p < 0.001))\n"
   ]
  },
  {
   "cell_type": "code",
   "execution_count": null,
   "id": "33e254f4",
   "metadata": {},
   "outputs": [],
   "source": []
  },
  {
   "cell_type": "code",
   "execution_count": null,
   "id": "88d960de",
   "metadata": {},
   "outputs": [],
   "source": []
  }
 ],
 "metadata": {
  "kernelspec": {
   "display_name": "Python 3 (ipykernel)",
   "language": "python",
   "name": "python3"
  },
  "language_info": {
   "codemirror_mode": {
    "name": "ipython",
    "version": 3
   },
   "file_extension": ".py",
   "mimetype": "text/x-python",
   "name": "python",
   "nbconvert_exporter": "python",
   "pygments_lexer": "ipython3",
   "version": "3.9.7"
  }
 },
 "nbformat": 4,
 "nbformat_minor": 5
}
